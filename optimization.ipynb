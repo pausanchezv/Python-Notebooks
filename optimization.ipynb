{
 "cells": [
  {
   "cell_type": "markdown",
   "metadata": {},
   "source": [
    "## Autors\n",
    "\n",
    "# - Albert Espín Román\n",
    "# - Pau Sanchez Valdivieso"
   ]
  },
  {
   "cell_type": "markdown",
   "metadata": {},
   "source": [
    "## Regressió Logística\n",
    "\n",
    "**Nom**: \n",
    "\n",
    "La **regressió logística** és un tipus d'algorisme de classificació binària (vol predir un valor $0$ o $1$ per una determinada mostra) i per fer-ho fa servir la funció logística:\n",
    "\n",
    "$$ \\sigma(x) = \\frac{1}{1+ e^{-x}}  $$"
   ]
  },
  {
   "cell_type": "code",
   "execution_count": 1,
   "metadata": {
    "collapsed": false
   },
   "outputs": [
    {
     "data": {
      "image/png": "[encoded data removed]",
      "text/plain": [
       "<matplotlib.figure.Figure at 0x42ed400>"
      ]
     },
     "metadata": {},
     "output_type": "display_data"
    }
   ],
   "source": [
    "import math\n",
    "import numpy as np\n",
    "\n",
    "def logistic(x):\n",
    "\n",
    "    return 1.0 / (1 + math.exp(-x))\n",
    "x = np.linspace(-10,10,200)\n",
    "y = [logistic(_) for _ in x]\n",
    "\n",
    "%matplotlib inline\n",
    "import matplotlib.pyplot as plt\n",
    "axes = plt.gca()\n",
    "axes.set_ylim([-0.1,1.1])\n",
    "plt.plot(x,y,'r')\n",
    "plt.show()"
   ]
  },
  {
   "cell_type": "markdown",
   "metadata": {},
   "source": [
    "Si disposem d'un conjunt de punts $\\{(x_i, y_i)\\}$, on $y_i \\in \\{0,1\\}$, i volem trobar quina és la probabilitat d'una mostra de ser $0$ o $1$ podem aproximar la probabilitat d'aquesta manera:\n",
    "\n",
    "$$ \\hat{y}_i = \\sigma(w x_i) $$\n",
    "\n",
    "on $w$ són una sèrie de pesos que cal determinar. En el cas de la regressió logísitica, la funció de cost que MAXIMITZAREM és la funció que s'anomena *log likelihood*:\n",
    "\n",
    "$$ logL = y_i \\log \\sigma(w x_i) + (1- y_i) \\log (1 - \\sigma(w x_i))$$"
   ]
  },
  {
   "cell_type": "code",
   "execution_count": 2,
   "metadata": {
    "collapsed": false
   },
   "outputs": [],
   "source": [
    "def dot(v, w):\n",
    "    \"\"\"v_1 * w_1 + ... + v_n * w_n\"\"\"\n",
    "    return sum(v_i * w_i for v_i, w_i in zip(v, w))\n",
    "\n",
    "def logistic_log_likelihood_i(x_i, y_i, beta):\n",
    "    if y_i == 1:\n",
    "        return math.log(logistic(dot(x_i, beta)))\n",
    "    else:\n",
    "        return math.log(1 - logistic(dot(x_i, beta)))"
   ]
  },
  {
   "cell_type": "markdown",
   "metadata": {},
   "source": [
    "Per tant, la funció de cost és:\n",
    "\n",
    "$$ \\sum_{x_i, y_i} y_i \\log \\sigma(w x_i) + (1- y_i) \\log (1 - \\sigma(w x_i)) $$"
   ]
  },
  {
   "cell_type": "code",
   "execution_count": 3,
   "metadata": {
    "collapsed": true
   },
   "outputs": [],
   "source": [
    "def logistic_log_likelihood(x, y, beta):\n",
    "    return sum(logistic_log_likelihood_i(x_i, y_i, beta)\n",
    "               for x_i, y_i in zip(x, y))"
   ]
  },
  {
   "cell_type": "markdown",
   "metadata": {
    "collapsed": true
   },
   "source": [
    "Les derivades d'aquestes funcions són simples:"
   ]
  },
  {
   "cell_type": "code",
   "execution_count": 4,
   "metadata": {
    "collapsed": true
   },
   "outputs": [],
   "source": [
    "def logistic_log_partial_ij(x_i, y_i, beta, j):\n",
    "    \"\"\"j es l'index de la derivada\"\"\"\n",
    "    return (y_i - logistic(dot(x_i, beta))) * x_i[j]\n",
    "    \n",
    "def logistic_log_gradient_i(x_i, y_i, beta):\n",
    "    \"\"\"gradient de log likelihood pel punt i\"\"\"\n",
    "    return [logistic_log_partial_ij(x_i, y_i, beta, j)\n",
    "            for j, _ in enumerate(beta)]\n",
    "            \n",
    "def logistic_log_gradient(x, y, beta):\n",
    "    return reduce(vector_add,\n",
    "                  [logistic_log_gradient_i(x_i, y_i, beta)\n",
    "                   for x_i, y_i in zip(x,y)])    "
   ]
  },
  {
   "cell_type": "markdown",
   "metadata": {},
   "source": [
    "Amb això, i algunes funcions auxililars, tenim tots els ingredients per plantejar el problema com un problema d'optimització."
   ]
  },
  {
   "cell_type": "code",
   "execution_count": 5,
   "metadata": {
    "collapsed": true
   },
   "outputs": [],
   "source": [
    "# funcions auxiliars\n",
    "from functools import partial\n",
    "\n",
    "def split_data(data, prob):\n",
    "    results = [], []\n",
    "    for row in data:\n",
    "        results[0 if random.random() < prob else 1].append(row)\n",
    "    return results\n",
    "\n",
    "def train_test_split(x, y, test_pct):\n",
    "    data = zip(x, y)                                \n",
    "    train, test = split_data(data, 1 - test_pct)  \n",
    "    x_train, y_train = zip(*train)                \n",
    "    x_test, y_test = zip(*test)\n",
    "    return x_train, x_test, y_train, y_test\n",
    "\n",
    "def maximize_batch(target_fn, gradient_fn, theta_0, tolerance=0.000001):\n",
    "    return minimize_batch(negate(target_fn),\n",
    "                          negate_all(gradient_fn),\n",
    "                          theta_0, \n",
    "                          tolerance)\n",
    "\n",
    "def minimize_batch(target_fn, gradient_fn, theta_0, tolerance=0.000001):\n",
    "    \n",
    "    step_sizes = [100, 10, 1, 0.1, 0.01, 0.001, 0.0001, 0.00001]\n",
    "    \n",
    "    theta = theta_0                           # set theta to initial value\n",
    "    target_fn = safe(target_fn)               # safe version of target_fn\n",
    "    value = target_fn(theta)                  # value we're minimizing\n",
    "    \n",
    "    while True:\n",
    "        gradient = gradient_fn(theta)  \n",
    "        next_thetas = [step(theta, gradient, -step_size)\n",
    "                       for step_size in step_sizes]\n",
    "                   \n",
    "        # choose the one that minimizes the error function        \n",
    "        next_theta = min(next_thetas, key=target_fn)\n",
    "        next_value = target_fn(next_theta)\n",
    "        \n",
    "        # stop if we're \"converging\"\n",
    "        if abs(value - next_value) < tolerance:\n",
    "            return theta\n",
    "        else:\n",
    "            theta, value = next_theta, next_value\n",
    "            \n",
    "def rescale(data_matrix):\n",
    "    means, stdevs = scale(data_matrix)\n",
    "\n",
    "    def rescaled(i, j): \n",
    "        if stdevs[j] > 0:\n",
    "            return (data_matrix[i][j] - means[j]) / stdevs[j]\n",
    "        else:\n",
    "            return data_matrix[i][j]\n",
    "\n",
    "    num_rows, num_cols = shape(data_matrix)\n",
    "    return make_matrix(num_rows, num_cols, rescaled)\n",
    "\n",
    "def scale(data_matrix):\n",
    "    num_rows, num_cols = shape(data_matrix)\n",
    "    means = [mean(get_column(data_matrix,j))\n",
    "             for j in range(num_cols)]\n",
    "    stdevs = [standard_deviation(get_column(data_matrix,j))\n",
    "              for j in range(num_cols)]\n",
    "    return means, stdevs\n",
    "\n",
    "def shape(A):\n",
    "    num_rows = len(A)\n",
    "    num_cols = len(A[0]) if A else 0\n",
    "    return num_rows, num_cols\n",
    "\n",
    "def mean(x): \n",
    "    return sum(x) / len(x)\n",
    "\n",
    "def get_column(A, j):\n",
    "    return [A_i[j] for A_i in A]\n",
    "\n",
    "def variance(x):\n",
    "    n = len(x)\n",
    "    deviations = de_mean(x)\n",
    "    return sum_of_squares(deviations) / (n - 1)\n",
    "    \n",
    "def standard_deviation(x):\n",
    "    return math.sqrt(variance(x))\n",
    "\n",
    "def de_mean(x):\n",
    "    x_bar = mean(x)\n",
    "    return [x_i - x_bar for x_i in x]\n",
    "\n",
    "def sum_of_squares(v):\n",
    "    \"\"\"v_1 * v_1 + ... + v_n * v_n\"\"\"\n",
    "    return dot(v, v)\n",
    "\n",
    "def make_matrix(num_rows, num_cols, entry_fn):\n",
    "    \"\"\"returns a num_rows x num_cols matrix \n",
    "    whose (i,j)-th entry is entry_fn(i, j)\"\"\"\n",
    "    return [[entry_fn(i, j) for j in range(num_cols)]\n",
    "            for i in range(num_rows)]  \n",
    "\n",
    "def entry_fn(i, j):\n",
    "    return A[i][j] + B[i][j]\n",
    "\n",
    "def negate(f):\n",
    "    \"\"\"return a function that for any input x returns -f(x)\"\"\"\n",
    "    return lambda *args, **kwargs: -f(*args, **kwargs)\n",
    "\n",
    "def negate_all(f):\n",
    "    \"\"\"the same when f returns a list of numbers\"\"\"\n",
    "    return lambda *args, **kwargs: [-y for y in f(*args, **kwargs)]\n",
    "\n",
    "def safe(f):\n",
    "    \"\"\"define a new function that wraps f and return it\"\"\"\n",
    "    def safe_f(*args, **kwargs):\n",
    "        try:\n",
    "            return f(*args, **kwargs)\n",
    "        except:\n",
    "            return float('inf')         # this means \"infinity\" in Python\n",
    "    return safe_f\n",
    "\n",
    "def vector_add(v, w):\n",
    "    \"\"\"adds two vectors componentwise\"\"\"\n",
    "    return [v_i + w_i for v_i, w_i in zip(v,w)]\n",
    "\n",
    "def step(v, direction, step_size):\n",
    "    \"\"\"move step_size in the direction from v\"\"\"\n",
    "    return [v_i + step_size * direction_i\n",
    "            for v_i, direction_i in zip(v, direction)]"
   ]
  },
  {
   "cell_type": "markdown",
   "metadata": {},
   "source": [
    "Les dades que farem servir corresponen a una base de dades de 200 usuaris i contenen els seus anys d'experiència, el seu salari i el resultat d'una avaluació interna ($0$ o $1$). "
   ]
  },
  {
   "cell_type": "code",
   "execution_count": 6,
   "metadata": {
    "collapsed": false
   },
   "outputs": [
    {
     "name": "stdout",
     "output_type": "stream",
     "text": [
      "[[1, 0.7, 48000], [1, 1.9, 48000]] [1, 0]\n"
     ]
    }
   ],
   "source": [
    "data = [(0.7,48000,1),(1.9,48000,0),(2.5,60000,1),(4.2,63000,0),(6,76000,0),(6.5,69000,0),(7.5,76000,0), \\\n",
    "        (8.1,88000,0),(8.7,83000,1),(10,83000,1),(0.8,43000,0),(1.8,60000,0),(10,79000,1),(6.1,76000,0), \\\n",
    "        (1.4,50000,0),(9.1,92000,0),(5.8,75000,0),(5.2,69000,0),(1,56000,0),(6,67000,0),(4.9,74000,0),   \\\n",
    "        (6.4,63000,1),(6.2,82000,0),(3.3,58000,0),(9.3,90000,1),(5.5,57000,1),(9.1,102000,0),(2.4,54000,0),\\\n",
    "        (8.2,65000,1),(5.3,82000,0),(9.8,107000,0),(1.8,64000,0),(0.6,46000,1),(0.8,48000,0),(8.6,84000,1),\\\n",
    "        (0.6,45000,0),(0.5,30000,1),(7.3,89000,0),(2.5,48000,1),(5.6,76000,0),(7.4,77000,0),(2.7,56000,0),\\\n",
    "        (0.7,48000,0),(1.2,42000,0),(0.2,32000,1),(4.7,56000,1),(2.8,44000,1),(7.6,78000,0),(1.1,63000,0),\\\n",
    "        (8,79000,1),(2.7,56000,0),(6,52000,1),(4.6,56000,0),(2.5,51000,0),(5.7,71000,0),(2.9,65000,0), \\\n",
    "        (1.1,33000,1),(3,62000,0),(4,71000,0),(2.4,61000,0),(7.5,75000,0),(9.7,81000,1),(3.2,62000,0),\\\n",
    "        (7.9,88000,0),(4.7,44000,1),(2.5,55000,0),(1.6,41000,0),(6.7,64000,1),(6.9,66000,1),(7.9,78000,1),\\\n",
    "        (8.1,102000,0),(5.3,48000,1),(8.5,66000,1),(0.2,56000,0),(6,69000,0),(7.5,77000,0),(8,86000,0),\\\n",
    "        (4.4,68000,0),(4.9,75000,0),(1.5,60000,0),(2.2,50000,0),(3.4,49000,1),(4.2,70000,0),(7.7,98000,0),\\\n",
    "        (8.2,85000,0),(5.4,88000,0),(0.1,46000,0),(1.5,37000,0),(6.3,86000,0),(3.7,57000,0),(8.4,85000,0),\\\n",
    "        (2,42000,0),(5.8,69000,1),(2.7,64000,0),(3.1,63000,0),(1.9,48000,0),(10,72000,1),(0.2,45000,0),\\\n",
    "        (8.6,95000,0),(1.5,64000,0),(9.8,95000,0),(5.3,65000,0),(7.5,80000,0),(9.9,91000,0),(9.7,50000,1),\\\n",
    "        (2.8,68000,0),(3.6,58000,0),(3.9,74000,0),(4.4,76000,0),(2.5,49000,0),(7.2,81000,0),(5.2,60000,1),\\\n",
    "        (2.4,62000,0),(8.9,94000,0),(2.4,63000,0),(6.8,69000,1),(6.5,77000,0),(7,86000,0),(9.4,94000,0),\\\n",
    "        (7.8,72000,1),(0.2,53000,0),(10,97000,0),(5.5,65000,0),(7.7,71000,1),(8.1,66000,1),(9.8,91000,0),\\\n",
    "        (8,84000,0),(2.7,55000,0),(2.8,62000,0),(9.4,79000,0),(2.5,57000,0),(7.4,70000,1),(2.1,47000,0),\\\n",
    "        (5.3,62000,1),(6.3,79000,0),(6.8,58000,1),(5.7,80000,0),(2.2,61000,0),(4.8,62000,0),(3.7,64000,0),\\\n",
    "        (4.1,85000,0),(2.3,51000,0),(3.5,58000,0),(0.9,43000,0),(0.9,54000,0),(4.5,74000,0),(6.5,55000,1),\\\n",
    "        (4.1,41000,1),(7.1,73000,0),(1.1,66000,0),(9.1,81000,1),(8,69000,1),(7.3,72000,1),(3.3,50000,0),\\\n",
    "        (3.9,58000,0),(2.6,49000,0),(1.6,78000,0),(0.7,56000,0),(2.1,36000,1),(7.5,90000,0),(4.8,59000,1),\\\n",
    "        (8.9,95000,0),(6.2,72000,0),(6.3,63000,0),(9.1,100000,0),(7.3,61000,1),(5.6,74000,0),(0.5,66000,0),\\\n",
    "        (1.1,59000,0),(5.1,61000,0),(6.2,70000,0),(6.6,56000,1),(6.3,76000,0),(6.5,78000,0),(5.1,59000,0),\\\n",
    "        (9.5,74000,1),(4.5,64000,0),(2,54000,0),(1,52000,0),(4,69000,0),(6.5,76000,0),(3,60000,0),(4.5,63000,0),\\\n",
    "        (7.8,70000,0),(3.9,60000,1),(0.8,51000,0),(4.2,78000,0),(1.1,54000,0),(6.2,60000,0),(2.9,59000,0),\\\n",
    "        (2.1,52000,0),(8.2,87000,0),(4.8,73000,0),(2.2,42000,1),(9.1,98000,0),(6.5,84000,0),(6.9,73000,0),\\\n",
    "        (5.1,72000,0),(9.1,69000,1),(9.8,79000,1),]\n",
    "data = map(list, data)              # canviem de tuples a llistes\n",
    "x = [[1] + row[:2] for row in data] # cada element es [1, experiencia, salari]\n",
    "y = [row[2] for row in data]        # cada element es resultat\n",
    "print x[0:2], y[0:2]"
   ]
  },
  {
   "cell_type": "markdown",
   "metadata": {},
   "source": [
    "El fet de posar una de les components de $x_i$ a $1$ ens permet que el model lineal que usem pugui ser del tipus $w_0 + w_1 x_1 + w_2 x_2$, atès que $x_0 = 1$."
   ]
  },
  {
   "cell_type": "code",
   "execution_count": 7,
   "metadata": {
    "collapsed": false
   },
   "outputs": [
    {
     "name": "stdout",
     "output_type": "stream",
     "text": [
      "w_hat [-1.9061824826642335, 4.053083869380028, -3.878895361783912]\n"
     ]
    }
   ],
   "source": [
    "import random\n",
    "random.seed(0)\n",
    "rescaled_x = rescale(x)\n",
    "x_train, x_test, y_train, y_test = train_test_split(rescaled_x, y, 0.33)\n",
    "\n",
    "# want to maximize log likelihood on the training data\n",
    "fn = partial(logistic_log_likelihood, x_train, y_train)\n",
    "gradient_fn = partial(logistic_log_gradient, x_train, y_train)\n",
    "\n",
    "# pick a random starting point\n",
    "w_0 = [1, 1, 1]\n",
    "\n",
    "# and maximize using gradient descent\n",
    "w_hat = maximize_batch(fn, gradient_fn, w_0)\n",
    "\n",
    "print \"w_hat\", w_hat\n"
   ]
  },
  {
   "cell_type": "markdown",
   "metadata": {},
   "source": [
    "## Exercici 1\n",
    "\n",
    "Avalua el resultat anterior en termes de 'precision' i 'recall'. Consulteu https://en.wikipedia.org/wiki/Precision_and_recall "
   ]
  },
  {
   "cell_type": "code",
   "execution_count": 8,
   "metadata": {
    "collapsed": false
   },
   "outputs": [
    {
     "name": "stdout",
     "output_type": "stream",
     "text": [
      "\n",
      "\n",
      "    Precisió >> 93.33%\n",
      "    Recall >> 82.35%\n",
      "    \n",
      "\n"
     ]
    }
   ],
   "source": [
    "# Solució\n",
    "\n",
    "def obtain_estimation_i(x_test, w_hat, index):\n",
    "    \"\"\" Obté el valor estimat d'un ítem en termes de valor \"\"\"\n",
    "    return logistic(x_test[index][0] * w_hat[0] + x_test[index][1] * w_hat[1] + x_test[index][2] * w_hat[2])\n",
    "\n",
    "def obtain_prediction_i(value):\n",
    "    \"\"\" Obté la predicció d'un ítem en termes 0 o 1 \"\"\"\n",
    "    if value < (1 - 0) / float(2):\n",
    "        return 0\n",
    "    return 1\n",
    "\n",
    "def obtain_values_dict():\n",
    "    \"\"\" Crea i retorna el diccionari de valors amb els valors inicialitzats a zero \"\"\"\n",
    "    return {\"true_positives\": 0, \"false_positives\": 0, \"true_negatives\": 0, \"false_negatives\": 0}\n",
    "\n",
    "def obtain_values(x_test, y_test, w_hat):\n",
    "    \"\"\" Avalua el resultat anterior en termes de 'precision i 'recall' \"\"\"\n",
    "    \n",
    "    # Array que guardarà els resultats\n",
    "    results = list()\n",
    "    \n",
    "    # Creem un diccionari que guardarà els valors\n",
    "    all_values = obtain_values_dict()\n",
    "    \n",
    "    # Iterem sobre la longitud de x_test per a fer els càlculs\n",
    "    for i in range(len(x_test)):\n",
    "        \n",
    "        # El valor real ens l'indica el valor de l'element 'i' de y_test\n",
    "        real_value = y_test[i]\n",
    "        \n",
    "        # El valor estimat l'obtenim a partir de dues funcions de suport per millorar la modularització\n",
    "        # i la reutilització del codi\n",
    "        estimate_value = obtain_estimation_i(x_test, w_hat, i)\n",
    "        \n",
    "        # Afegim el valor als resultats\n",
    "        results.append(estimate_value)\n",
    "        \n",
    "        # Transformem el valor a 0 o 1 segons la seva proximitat\n",
    "        estimate_value = obtain_prediction_i(estimate_value)\n",
    "        \n",
    "        # Incrementem els valors segons cada cas\n",
    "        all_values[\"true_positives\"] += int(real_value == estimate_value == 1)\n",
    "        all_values[\"false_positives\"] += int(not real_value and estimate_value)\n",
    "        all_values[\"true_negatives\"] += int(real_value == estimate_value == 0)\n",
    "        all_values[\"false_negatives\"] += int(real_value and not estimate_value)\n",
    "    \n",
    "    # Amb els valors obtinguts obtenim el recall i la precisió demanats\n",
    "    precision = float(all_values['true_positives']) / (all_values['true_positives'] + all_values['false_positives'])* 100\n",
    "    recall = float(all_values['true_positives']) / (all_values['true_positives'] + all_values['false_negatives']) * 100\n",
    "    \n",
    "    return precision, recall, results\n",
    "        \n",
    "precision, recall, results = obtain_values(x_test, y_test, w_hat)\n",
    "\n",
    "print u\"\"\"\n",
    "\n",
    "    Precisió >> {0:.2f}%\n",
    "    Recall >> {1:.2f}%\n",
    "    \n",
    "\"\"\".format(precision, recall)"
   ]
  },
  {
   "cell_type": "markdown",
   "metadata": {},
   "source": [
    "## Exercici 2\n",
    "\n",
    "Feu un gràfic en que l'eix $x$ representi el valor de les prediccions i el $y$ els valors reals."
   ]
  },
  {
   "cell_type": "code",
   "execution_count": 9,
   "metadata": {
    "collapsed": false,
    "scrolled": true
   },
   "outputs": [
    {
     "data": {
      "image/png": "[encoded data removed]",
      "text/plain": [
       "<matplotlib.figure.Figure at 0x70cd320>"
      ]
     },
     "metadata": {},
     "output_type": "display_data"
    }
   ],
   "source": [
    "# Solució\n",
    "\n",
    "# Tot i seguint l'exemple del professorat de l'assignatura de com s'implenenta una gràfica a les cel·les inicials\n",
    "# d'aquest document, s'implementa tot seguit una gràfica que en l'eix de les 'x' representa el valor de les prediccions\n",
    "# i en l'y els valors reals.\n",
    "\n",
    "%matplotlib inline\n",
    "import matplotlib.pyplot as plt\n",
    "\n",
    "# y_test dóna vida a la col·lecció de valors reals mentre que la variable results són les prediccions (estimacions)\n",
    "# les quals hem assolit a l'exercici anterior.\n",
    "axes = plt.gca()\n",
    "axes.set_ylim([-0.1, 1.1])\n",
    "plt.plot(results, y_test, 'x')\n",
    "plt.show()"
   ]
  },
  {
   "cell_type": "markdown",
   "metadata": {},
   "source": [
    "## Exercici 3\n",
    "\n",
    "El cas anterior surt d'un nombre random fix (random.seed(0)) i d'un paràmetre fix ([1,1,1]). Feu una cerca aleatoria a veure si es pot trobar un `w_hat` sensiblement millor al [-1.9061824826642335, 4.053083869380028, -3.878895361783912]."
   ]
  },
  {
   "cell_type": "code",
   "execution_count": 11,
   "metadata": {
    "collapsed": false
   },
   "outputs": [
    {
     "name": "stdout",
     "output_type": "stream",
     "text": [
      "[-2.5742491249407413, 5.570416228144058, -5.575773496370661]\n",
      "[-2.6752480750759218, 4.859553338032475, -5.459553640843432]\n",
      "[-2.282043413996983, 5.366070191979021, -4.781452774226474]\n"
     ]
    }
   ],
   "source": [
    "# Aquest exercici l'hem separat en dues cel·les per optimitzar la modularització i la correcta presentació\n",
    "# del codi a desenvolupar.\n",
    "\n",
    "####### IMPORTANT #######\n",
    "\n",
    "# Al treure la llavor (seed), els conjunts d'entrenament i de test es construeixen aleatòriament cada vegada\n",
    "# Si deixéssim els conjunts d'entrenament i de test d'abans NO MILLORARIA els resultats.\n",
    "# PER PODER MILLORAR s'han d'anar generant cada vegada i de fet és així com estem aplicant aleatorietat\n",
    "# absoluta tant a l'w_0 com a les creacions dels conjunts.\n",
    "\n",
    "# REPTIM:: Si no generem conjunts de test i train aleatoris a cada construcció d'un nou w_hat NO MILLORA, de\n",
    "# manera que cada vegada generem conjunts random d'entrenament i de test.\n",
    "\n",
    "#########################\n",
    "\n",
    "# Redefinim els conjunts d'entrenament i de text per poder actualitzar-los globalment\n",
    "# dins la funció.\n",
    "x_train, x_test, y_train, y_test = tuple([None] * 4)\n",
    "\n",
    "def get_random_w_hat(x, y):\n",
    "    \"\"\" Funció que retorna un generador de w_hat \"\"\"\n",
    "    \n",
    "    import random\n",
    "    \n",
    "    # Itera sense fi tot i generant un w_hat diferents a cada crida 'next' (recordar que estem en un\n",
    "    # generador)\n",
    "    while(True):\n",
    "\n",
    "        rescaled_x = rescale(x)\n",
    "        \n",
    "        global x_train, x_test, y_train, y_test\n",
    "        x_train, x_test, y_train, y_test = train_test_split(rescaled_x, y, 0.33)\n",
    "\n",
    "        # want to maximize log likelihood on the training data\n",
    "        fn = partial(logistic_log_likelihood, x_train, y_train)\n",
    "        gradient_fn = partial(logistic_log_gradient, x_train, y_train)\n",
    "\n",
    "        # pick a random starting point\n",
    "        w_0 = [random.randint(0, 2), random.randint(0, 2), random.randint(0, 2)]\n",
    "\n",
    "        # and maximize using gradient descent\n",
    "        w_hat = maximize_batch(fn, gradient_fn, w_0)\n",
    "        \n",
    "        yield w_hat\n",
    "\n",
    "# Crida al generador amb x i y que sempre representen el mateix conjunt de dades global\n",
    "w_hat_gen = get_random_w_hat(x, y)\n",
    "\n",
    "# Mostra com a cada crida next al generador retorna un w_hat ramdom diferent\n",
    "print w_hat_gen.next()\n",
    "print w_hat_gen.next()\n",
    "print w_hat_gen.next()\n",
    "# etc...\n"
   ]
  },
  {
   "cell_type": "code",
   "execution_count": 12,
   "metadata": {
    "collapsed": false,
    "scrolled": true
   },
   "outputs": [
    {
     "name": "stdout",
     "output_type": "stream",
     "text": [
      "\n",
      "\n",
      "    *** Valors anteriors ***\n",
      "    \n",
      "    Precisió anterior >> 93.33\n",
      "    Recall anterior >> 82.35\n",
      "    W_Hat anterior >> [-1.9061824826642335, 4.053083869380028, -3.878895361783912]\n",
      "    \n",
      "    *** Valors millorats ***\n",
      "    \n",
      "    Precisió millorada >> 93.75\n",
      "    Recall millorat >> 83.33\n",
      "    W_Hat de la millora >> [-2.054350693321647, 4.1738352053946, -4.075839720572922]\n",
      "    \n",
      "    Cal tenir en compte que els conjunts d'entrenament i de test poden haver canviat, en canvi,\n",
      "    les dades de ben segur que no han canviat. Si no s'anaven generant conjunts d'entrenament\n",
      "    i de test a cada crida al generador w_hat no hi havia manera de millorar el resultat anterior.\n",
      "\n",
      "\n",
      "\n"
     ]
    }
   ],
   "source": [
    "def upgrade_w_hat(old_precision, old_recall):\n",
    "    \"\"\" Funció que millora aleatoriament les dades anteriors \"\"\"\n",
    "    \n",
    "    # Inicialitzem les variables que guardaran els millors paràmetres precisió, recall i w_hat extrets\n",
    "    # aletòriament amb el generador proposat a la cel·la anterior\n",
    "    best_precision, best_recall, best_w_hat = 0, 0, None\n",
    "\n",
    "    # Itera fins a millorar la precisió i el recall anteriors\n",
    "    while best_precision <= old_precision or best_recall <= old_recall:\n",
    "\n",
    "        # Generem un nou w_hat aleatori \n",
    "        current_w_hat = w_hat_gen.next()\n",
    "\n",
    "        # N'obtenim els valors\n",
    "        precision, recall, _ = obtain_values(x_test, y_test, current_w_hat)\n",
    "\n",
    "        # Actualitzem els valors si escau\n",
    "        if precision > best_precision or recall > best_recall:\n",
    "            best_precision, best_recall, best_w_hat = precision, recall, current_w_hat\n",
    "            \n",
    "    return best_precision, best_recall, best_w_hat\n",
    "\n",
    "\n",
    "# Els valors passats com a paràmetres al fer la crida son la precisió i el recall anteriors, és a dir,\n",
    "# la precisió i el recall que hem de millorar trobant un w_hat millor.\n",
    "best_precision, best_recall, best_w_hat = upgrade_w_hat(precision, recall)\n",
    "\n",
    "print u\"\"\"\n",
    "\n",
    "    *** Valors anteriors ***\n",
    "    \n",
    "    Precisió anterior >> {0:.2f}\n",
    "    Recall anterior >> {1:.2f}\n",
    "    W_Hat anterior >> {2}\n",
    "    \n",
    "    *** Valors millorats ***\n",
    "    \n",
    "    Precisió millorada >> {3:.2f}\n",
    "    Recall millorat >> {4:.2f}\n",
    "    W_Hat de la millora >> {5}\n",
    "    \n",
    "    Cal tenir en compte que els conjunts d'entrenament i de test poden haver canviat, en canvi,\n",
    "    les dades de ben segur que no han canviat. Si no s'anaven generant conjunts d'entrenament\n",
    "    i de test a cada crida al generador w_hat no hi havia manera de millorar el resultat anterior.\n",
    "\n",
    "\n",
    "\"\"\".format(precision, recall, w_hat, best_precision, best_recall, best_w_hat)\n",
    "    "
   ]
  },
  {
   "cell_type": "code",
   "execution_count": null,
   "metadata": {
    "collapsed": true
   },
   "outputs": [],
   "source": []
  }
 ],
 "metadata": {
  "anaconda-cloud": {},
  "kernelspec": {
   "display_name": "Python [Root]",
   "language": "python",
   "name": "Python [Root]"
  },
  "language_info": {
   "codemirror_mode": {
    "name": "ipython",
    "version": 2
   },
   "file_extension": ".py",
   "mimetype": "text/x-python",
   "name": "python",
   "nbconvert_exporter": "python",
   "pygments_lexer": "ipython2",
   "version": "2.7.12"
  }
 },
 "nbformat": 4,
 "nbformat_minor": 0
}
